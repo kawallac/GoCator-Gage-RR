{
  "cells": [
    {
      "cell_type": "code",
      "source": [
        "from google.colab import drive\n",
        "drive.mount('/content/drive')"
      ],
      "metadata": {
        "colab": {
          "base_uri": "https://localhost:8080/"
        },
        "id": "A5m3TeZejLJl",
        "outputId": "b270b263-c486-4697-c5e1-da1bee6404f6"
      },
      "id": "A5m3TeZejLJl",
      "execution_count": null,
      "outputs": [
        {
          "output_type": "stream",
          "name": "stdout",
          "text": [
            "Mounted at /content/drive\n"
          ]
        }
      ]
    },
    {
      "cell_type": "code",
      "source": [
        "cd /content/drive/MyDrive/Colab Notebooks/TinyTAB/"
      ],
      "metadata": {
        "colab": {
          "base_uri": "https://localhost:8080/"
        },
        "id": "FvYOKx3QNTHv",
        "outputId": "0b6966b6-f64d-47b3-88c0-2183e6d7f5db"
      },
      "id": "FvYOKx3QNTHv",
      "execution_count": null,
      "outputs": [
        {
          "output_type": "stream",
          "name": "stdout",
          "text": [
            "/content/drive/MyDrive/Colab Notebooks/TinyTAB\n"
          ]
        }
      ]
    },
    {
      "cell_type": "code",
      "execution_count": null,
      "id": "7b69bb63-e7d5-469c-9ca4-20231f2f6854",
      "metadata": {
        "id": "7b69bb63-e7d5-469c-9ca4-20231f2f6854"
      },
      "outputs": [],
      "source": [
        "import pandas as pd # importing pandas, setting pd as a shortcut for pandas\n",
        "df = pd.read_csv('RawData.csv') # creating the variable df to present the data frame"
      ]
    },
    {
      "cell_type": "code",
      "execution_count": null,
      "id": "5355adf2-e743-4344-9cb6-93dce70ecebe",
      "metadata": {
        "scrolled": true,
        "colab": {
          "base_uri": "https://localhost:8080/"
        },
        "id": "5355adf2-e743-4344-9cb6-93dce70ecebe",
        "outputId": "236d23e4-912f-482d-c1ef-17f2e44f5d76"
      },
      "outputs": [
        {
          "output_type": "stream",
          "name": "stdout",
          "text": [
            "     CharName  TP Measure\n",
            "0        C2_3       0.283\n",
            "31       C2_3       0.152\n",
            "62       C2_3       0.165\n",
            "93       C2_3       0.030\n",
            "124      C2_3       0.184\n",
            "...       ...         ...\n",
            "2635     C2_3       0.154\n",
            "2666     C2_3       0.126\n",
            "2697     C2_3       0.287\n",
            "2728     C2_3       0.132\n",
            "2759     C2_3       0.220\n",
            "\n",
            "[90 rows x 2 columns]\n",
            "0.28300000000000003\n"
          ]
        }
      ],
      "source": [
        "### Working with one characteristic before iterating\n",
        "\n",
        "# New data frame that only contains CharName and TP Measure\n",
        "df_Char_TP = df[['CharName', 'TP Measure']]\n",
        "\n",
        "# Filtering on a single characteristic, in this case C2_3\n",
        "df_single_char = df_Char_TP[df_Char_TP['CharName'] == 'C2_3']\n",
        "print(df_single_char)\n",
        "\n",
        "# Determining the range of values for TP Measure\n",
        "char_range = df_single_char['TP Measure'].max() - df_single_char['TP Measure'].min()\n",
        "print(char_range)"
      ]
    },
    {
      "cell_type": "code",
      "execution_count": null,
      "id": "3ab3ddd0-3e50-4fd5-8082-8dce7983c57e",
      "metadata": {
        "colab": {
          "base_uri": "https://localhost:8080/"
        },
        "id": "3ab3ddd0-3e50-4fd5-8082-8dce7983c57e",
        "outputId": "3c2a77af-77f0-4224-9c87-94fe3d903668"
      },
      "outputs": [
        {
          "output_type": "stream",
          "name": "stdout",
          "text": [
            "C2_3\n",
            "The range of C2_3 is 0.28300000000000003\n",
            "The range of C2_3 is 0.28300000000000003\n",
            "The range of C4A is 0.548\n",
            "The range of C4B is 0.40399999999999997\n",
            "The range of C4C is 0.351\n",
            "The range of C4D is 0.296\n",
            "The range of C4E is 0.269\n",
            "The range of C4F is 0.29100000000000004\n",
            "The range of C4G is 0.338\n",
            "The range of C4H is 0.349\n",
            "The range of C11 is 0.195\n",
            "The range of C13A is 0.45899999999999996\n",
            "The range of C13B is 0.6619999999999999\n",
            "The range of C17A is 0.771\n",
            "The range of C17B is 0.938\n",
            "The range of C18A is 0.314\n",
            "The range of C18B is 1.257\n",
            "The range of C26A is 1.2730000000000001\n",
            "The range of C26B is 1.031\n",
            "The range of C26C is 0.594\n",
            "The range of C26D is 1.321\n",
            "The range of C27A is 1.119\n",
            "The range of C27B is 0.986\n",
            "The range of C27C is 0.7939999999999999\n",
            "The range of C27D is 0.8240000000000001\n",
            "The range of C31A is 0.0\n",
            "The range of C37A is 0.0\n",
            "The range of C50A is 0.0\n",
            "The range of C31B is 0.0\n",
            "The range of C37B is 0.0\n",
            "The range of C50B is 0.0\n",
            "The range of C52 is 0.0\n"
          ]
        }
      ],
      "source": [
        "### Building upon the above with iterating through the whole data frame\n",
        "\n",
        "# New data frame that only contains CharName and TP Measure\n",
        "df_Char_TP = df[['CharName', 'TP Measure']]\n",
        "\n",
        "# Pull the different characteristics from CharName, without duplicates\n",
        "set1 = set(df_Char_TP['CharName']) # a set does not allow for duplicates\n",
        "#print(set1) # test\n",
        "\n",
        "char_names = df_Char_TP['CharName'].unique() # does the same as above, but keeps it as an object\n",
        "#print(char_names) # test\n",
        "#print(type(char_names)) # test\n",
        "\n",
        "# Iterate through by characteristics and generate separate data frames based CharName/TP\n",
        "    # Have to index through char_names to select the specific character from df_Char_TP\n",
        "print(char_names[0]) # so use the standard index syntax\n",
        "    # Select character based on the index\n",
        "df_single_char = df_Char_TP[df_Char_TP['CharName'] == char_names[0]] # filtering based on the index of char_names\n",
        "# df_single_char # test\n",
        "char_range = df_single_char['TP Measure'].max() - df_single_char['TP Measure'].min()\n",
        "print(f'The range of {char_names[0]} is {char_range}')\n",
        "    # Iterate\n",
        "for cname in char_names:\n",
        "    df_single_char = df_Char_TP[df_Char_TP['CharName'] == cname]\n",
        "    char_range = df_single_char['TP Measure'].max() - df_single_char['TP Measure'].min()\n",
        "    print(f'The range of {cname} is {char_range}')\n",
        "\n"
      ]
    },
    {
      "cell_type": "code",
      "execution_count": null,
      "id": "c36412ca-8c84-4e00-acb5-038d3042af2c",
      "metadata": {
        "colab": {
          "base_uri": "https://localhost:8080/"
        },
        "id": "c36412ca-8c84-4e00-acb5-038d3042af2c",
        "outputId": "e95d895d-0086-45c2-d762-d1bbab124af6"
      },
      "outputs": [
        {
          "output_type": "stream",
          "name": "stdout",
          "text": [
            "The range of C2_3 is 0.28300000000000003\n",
            "The range of C4A is 0.548\n",
            "The range of C4B is 0.40399999999999997\n",
            "The range of C4C is 0.351\n",
            "The range of C4D is 0.296\n",
            "The range of C4E is 0.269\n",
            "The range of C4F is 0.29100000000000004\n",
            "The range of C4G is 0.338\n",
            "The range of C4H is 0.349\n",
            "The range of C11 is 0.195\n",
            "The range of C13A is 0.45899999999999996\n",
            "The range of C13B is 0.6619999999999999\n",
            "The range of C17A is 0.771\n",
            "The range of C17B is 0.938\n",
            "The range of C18A is 0.314\n",
            "The range of C18B is 1.257\n",
            "The range of C26A is 1.2730000000000001\n",
            "The range of C26B is 1.031\n",
            "The range of C26C is 0.594\n",
            "The range of C26D is 1.321\n",
            "The range of C27A is 1.119\n",
            "The range of C27B is 0.986\n",
            "The range of C27C is 0.7939999999999999\n",
            "The range of C27D is 0.8240000000000001\n",
            "The range of C31A is 0.0\n",
            "The range of C37A is 0.0\n",
            "The range of C50A is 0.0\n",
            "The range of C31B is 0.0\n",
            "The range of C37B is 0.0\n",
            "The range of C50B is 0.0\n",
            "The range of C52 is 0.0\n"
          ]
        }
      ],
      "source": [
        "### Cleaning up the above into clean code\n",
        "\n",
        "# New data frame that only contains CharName and TP Measure\n",
        "df_Char_TP = df[['CharName', 'TP Measure']]\n",
        "\n",
        "# Pull the different characteristics from CharName, without duplicates\n",
        "char_names = df_Char_TP['CharName'].unique() # pulls unique values\n",
        "\n",
        "# Iterate through by characteristics and generate the ranges\n",
        "for cname in char_names:\n",
        "    df_single_char = df_Char_TP[df_Char_TP['CharName'] == cname] # filters based on character\n",
        "    char_range = df_single_char['TP Measure'].max() - df_single_char['TP Measure'].min() # Calculates the range\n",
        "    print(f'The range of {cname} is {char_range}') # prints the range\n"
      ]
    },
    {
      "cell_type": "markdown",
      "id": "f3901aee-22ed-4ae3-9a11-855e251edada",
      "metadata": {
        "id": "f3901aee-22ed-4ae3-9a11-855e251edada"
      },
      "source": [
        "To Do:\n",
        "-test to see if the ranges are accurate\n",
        "-generate a new csv file or some kind of visualization\n",
        "-conduct for feature size\n",
        "-add addition statistics that would be for a gage rr\n",
        "-in final code create functions to perform the various statistics\n",
        "-control the number of decimal places on the output\n",
        "\n",
        "Full program\n",
        "-enter the gage rr trial.. is it a 1x1x10 or a 3x3x10 ect\n",
        "    -test the data to confirm selection\n",
        "-enter the tolerance limits of each characteristic\n",
        "    -user input or a csv input?\n",
        "        -maybe after determining the characteristics from the data iterate and ask for each tolerance\n",
        "            -the idea is to keep the program universal to any part\n",
        "-spit out results for each characteristic, how? a tab each in excel? In a notebook?\n",
        "\n",
        "-take the math and create a library, tinyTAB\n",
        "    - .cpk(data, char, ect, ect)\n",
        "\n"
      ]
    },
    {
      "cell_type": "code",
      "execution_count": null,
      "id": "f3a026c6-cf8e-4ee6-a8b9-e15f139c9229",
      "metadata": {
        "colab": {
          "base_uri": "https://localhost:8080/"
        },
        "id": "f3a026c6-cf8e-4ee6-a8b9-e15f139c9229",
        "outputId": "5dd65086-f980-4829-bd28-e2e15ee65daf"
      },
      "outputs": [
        {
          "output_type": "stream",
          "name": "stdout",
          "text": [
            "The standard deviation of C2_3 is 0.06942778876418394\n",
            "The standard deviation of C4A is 0.12484620451388617\n",
            "The standard deviation of C4B is 0.10353614807183555\n",
            "The standard deviation of C4C is 0.08667579972044405\n",
            "The standard deviation of C4D is 0.08285895616485335\n",
            "The standard deviation of C4E is 0.07422157080683289\n",
            "The standard deviation of C4F is 0.07428240222891877\n",
            "The standard deviation of C4G is 0.09016542987237355\n",
            "The standard deviation of C4H is 0.08024973582433251\n",
            "The standard deviation of C11 is 0.048589119120219716\n",
            "The standard deviation of C13A is 0.11724667169038067\n",
            "The standard deviation of C13B is 0.1569422932028053\n",
            "The standard deviation of C17A is 0.09073559563152017\n",
            "The standard deviation of C17B is 0.17415064474806657\n",
            "The standard deviation of C18A is 0.07425321003834616\n",
            "The standard deviation of C18B is 0.21990242870943835\n",
            "The standard deviation of C26A is 0.3575121640457834\n",
            "The standard deviation of C26B is 0.27308737654999965\n",
            "The standard deviation of C26C is 0.17587219426079656\n",
            "The standard deviation of C26D is 0.3949074393360378\n",
            "The standard deviation of C27A is 0.3101089150621097\n",
            "The standard deviation of C27B is 0.2911918647942402\n",
            "The standard deviation of C27C is 0.2451803789605032\n",
            "The standard deviation of C27D is 0.22126189565064375\n",
            "The standard deviation of C31A is 0.0\n",
            "The standard deviation of C37A is 0.0\n",
            "The standard deviation of C50A is 0.0\n",
            "The standard deviation of C31B is 0.0\n",
            "The standard deviation of C37B is 0.0\n",
            "The standard deviation of C50B is 0.0\n",
            "The standard deviation of C52 is 0.0\n"
          ]
        }
      ],
      "source": [
        "### Same as above but for standard deviation\n",
        "\n",
        "# New data frame that only contains CharName and TP Measure\n",
        "df_Char_TP = df[['CharName', 'TP Measure']]\n",
        "\n",
        "# Pull the different characteristics from CharName, without duplicates\n",
        "char_names = df_Char_TP['CharName'].unique() # pulls unique values\n",
        "\n",
        "# Iterate through by characteristics and generate the ranges\n",
        "for cname in char_names:\n",
        "    df_single_char = df_Char_TP[df_Char_TP['CharName'] == cname] # filters based on character\n",
        "    char_range = df_single_char['TP Measure'].std() # calculate the standard deviation\n",
        "    print(f'The standard deviation of {cname} is {char_range}') # prints the range"
      ]
    },
    {
      "cell_type": "markdown",
      "id": "4032abd4-6db2-4bee-ba58-418b3e516b03",
      "metadata": {
        "id": "4032abd4-6db2-4bee-ba58-418b3e516b03"
      },
      "source": [
        "Resources for Cpk\n",
        "-https://www.linkedin.com/pulse/calculating-cp-cpk-uma-maheswari-manchala-2c/\n",
        "-https://www.geeksforgeeks.org/process-capability-index-cpk-formula/\n",
        "\n"
      ]
    },
    {
      "cell_type": "code",
      "execution_count": null,
      "id": "f68fd5f7-f9c3-444e-a3f4-f2045b0e87b7",
      "metadata": {
        "id": "f68fd5f7-f9c3-444e-a3f4-f2045b0e87b7"
      },
      "outputs": [],
      "source": [
        "# Creating a Pandas series\n",
        "data = [1, 2, 3, 4, 5]\n",
        "s = pd.Series(data)\n",
        "\n",
        "# Computing the mean of a Pandas series\n",
        "mean = s.mean()\n",
        "print(mean)\n",
        "\n"
      ]
    },
    {
      "cell_type": "markdown",
      "source": [
        "## Add operators to the data"
      ],
      "metadata": {
        "id": "gqJBWzyVhVqp"
      },
      "id": "gqJBWzyVhVqp"
    },
    {
      "cell_type": "code",
      "source": [
        "# Need to add operator\n",
        "# For this dataframe the first 10 instances is operator one and the next ten is operator 2..\n",
        "\n",
        "# li = []\n",
        "# i = 0\n",
        "# li.append(1)\n",
        "# print(li)\n",
        "\n",
        "li = []\n",
        "i = 0\n",
        "while i <= 90:\n",
        "    if i <= 30:\n",
        "        li.append(1)\n",
        "        i+=1\n",
        "    elif i <= 60:\n",
        "        li.append(2)\n",
        "        i+=1\n",
        "    elif i <= 90:\n",
        "        li.append(3)\n",
        "        i+=1\n",
        "\n",
        "print(li)\n"
      ],
      "metadata": {
        "colab": {
          "base_uri": "https://localhost:8080/"
        },
        "id": "mvSwg3JlhaoJ",
        "outputId": "38021018-1ea3-4fe2-da16-a78a3d9c53cf"
      },
      "id": "mvSwg3JlhaoJ",
      "execution_count": 2,
      "outputs": [
        {
          "output_type": "stream",
          "name": "stdout",
          "text": [
            "[1, 1, 1, 1, 1, 1, 1, 1, 1, 1, 1, 1, 1, 1, 1, 1, 1, 1, 1, 1, 1, 1, 1, 1, 1, 1, 1, 1, 1, 1, 1, 2, 2, 2, 2, 2, 2, 2, 2, 2, 2, 2, 2, 2, 2, 2, 2, 2, 2, 2, 2, 2, 2, 2, 2, 2, 2, 2, 2, 2, 2, 3, 3, 3, 3, 3, 3, 3, 3, 3, 3, 3, 3, 3, 3, 3, 3, 3, 3, 3, 3, 3, 3, 3, 3, 3, 3, 3, 3, 3, 3]\n"
          ]
        }
      ]
    },
    {
      "cell_type": "code",
      "source": [],
      "metadata": {
        "id": "QnLAvBBzhc4y"
      },
      "id": "QnLAvBBzhc4y",
      "execution_count": null,
      "outputs": []
    }
  ],
  "metadata": {
    "kernelspec": {
      "display_name": "anaconda-panel-2023.05-py310",
      "language": "python",
      "name": "conda-env-anaconda-panel-2023.05-py310-py"
    },
    "language_info": {
      "codemirror_mode": {
        "name": "ipython",
        "version": 3
      },
      "file_extension": ".py",
      "mimetype": "text/x-python",
      "name": "python",
      "nbconvert_exporter": "python",
      "pygments_lexer": "ipython3",
      "version": "3.11.5"
    },
    "colab": {
      "provenance": []
    }
  },
  "nbformat": 4,
  "nbformat_minor": 5
}