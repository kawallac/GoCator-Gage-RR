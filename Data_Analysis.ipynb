{
 "cells": [
  {
   "cell_type": "code",
   "execution_count": 1,
   "id": "7b69bb63-e7d5-469c-9ca4-20231f2f6854",
   "metadata": {
    "id": "7b69bb63-e7d5-469c-9ca4-20231f2f6854"
   },
   "outputs": [],
   "source": [
    "import pandas as pd\n",
    "import numpy as np"
   ]
  },
  {
   "cell_type": "markdown",
   "id": "4514e1d9-8e23-442a-a936-de52160a50c5",
   "metadata": {},
   "source": [
    "## Initial DF Setup"
   ]
  },
  {
   "cell_type": "code",
   "execution_count": 15,
   "id": "5597a281-dd27-4e2a-badf-038097acf8e6",
   "metadata": {},
   "outputs": [],
   "source": [
    "### Setting the size of the gage r&r\n",
    "num_parts = 10 #input(How many parts ran?)\n",
    "num_trials = 3 #input(How many trials per part?)\n",
    "num_operators = 3 #input(How many operators?)"
   ]
  },
  {
   "cell_type": "code",
   "execution_count": 17,
   "id": "830d21db-2bb2-4ebc-80c7-ee5e1d789ae6",
   "metadata": {},
   "outputs": [
    {
     "data": {
      "text/html": [
       "<div>\n",
       "<style scoped>\n",
       "    .dataframe tbody tr th:only-of-type {\n",
       "        vertical-align: middle;\n",
       "    }\n",
       "\n",
       "    .dataframe tbody tr th {\n",
       "        vertical-align: top;\n",
       "    }\n",
       "\n",
       "    .dataframe thead th {\n",
       "        text-align: right;\n",
       "    }\n",
       "</style>\n",
       "<table border=\"1\" class=\"dataframe\">\n",
       "  <thead>\n",
       "    <tr style=\"text-align: right;\">\n",
       "      <th></th>\n",
       "      <th>DateTime</th>\n",
       "      <th>SerialNum</th>\n",
       "      <th>CharName</th>\n",
       "      <th>X Pos</th>\n",
       "      <th>Y Pos</th>\n",
       "      <th>Z Pos</th>\n",
       "      <th>TP Measure</th>\n",
       "      <th>Diameter</th>\n",
       "      <th>Length</th>\n",
       "      <th>PassTP</th>\n",
       "      <th>PassDiameter</th>\n",
       "      <th>PassLength</th>\n",
       "      <th>PassTot</th>\n",
       "    </tr>\n",
       "  </thead>\n",
       "  <tbody>\n",
       "    <tr>\n",
       "      <th>0</th>\n",
       "      <td>06324_131250</td>\n",
       "      <td>EXT1C0070008018000277700000063332611A</td>\n",
       "      <td>C2_3</td>\n",
       "      <td>-48.127</td>\n",
       "      <td>95.770</td>\n",
       "      <td>0.0</td>\n",
       "      <td>0.283</td>\n",
       "      <td>6.989</td>\n",
       "      <td>10.883</td>\n",
       "      <td>TRUE</td>\n",
       "      <td>TRUE</td>\n",
       "      <td>TRUE</td>\n",
       "      <td>TRUE</td>\n",
       "    </tr>\n",
       "    <tr>\n",
       "      <th>1</th>\n",
       "      <td>06324_131250</td>\n",
       "      <td>EXT1C0070008018000277700000063332611A</td>\n",
       "      <td>C4A</td>\n",
       "      <td>-99.079</td>\n",
       "      <td>-12.134</td>\n",
       "      <td>0.0</td>\n",
       "      <td>0.079</td>\n",
       "      <td>7.896</td>\n",
       "      <td>0.000</td>\n",
       "      <td>TRUE</td>\n",
       "      <td>FALSE</td>\n",
       "      <td>TRUE</td>\n",
       "      <td>FALSE</td>\n",
       "    </tr>\n",
       "    <tr>\n",
       "      <th>2</th>\n",
       "      <td>06324_131250</td>\n",
       "      <td>EXT1C0070008018000277700000063332611A</td>\n",
       "      <td>C4B</td>\n",
       "      <td>-99.059</td>\n",
       "      <td>-108.026</td>\n",
       "      <td>0.0</td>\n",
       "      <td>0.097</td>\n",
       "      <td>7.906</td>\n",
       "      <td>0.000</td>\n",
       "      <td>TRUE</td>\n",
       "      <td>TRUE</td>\n",
       "      <td>TRUE</td>\n",
       "      <td>TRUE</td>\n",
       "    </tr>\n",
       "  </tbody>\n",
       "</table>\n",
       "</div>"
      ],
      "text/plain": [
       "       DateTime                              SerialNum CharName   X Pos  \\\n",
       "0  06324_131250  EXT1C0070008018000277700000063332611A     C2_3 -48.127   \n",
       "1  06324_131250  EXT1C0070008018000277700000063332611A      C4A -99.079   \n",
       "2  06324_131250  EXT1C0070008018000277700000063332611A      C4B -99.059   \n",
       "\n",
       "     Y Pos  Z Pos  TP Measure  Diameter  Length PassTP PassDiameter  \\\n",
       "0   95.770    0.0       0.283     6.989  10.883   TRUE         TRUE   \n",
       "1  -12.134    0.0       0.079     7.896   0.000   TRUE        FALSE   \n",
       "2 -108.026    0.0       0.097     7.906   0.000   TRUE         TRUE   \n",
       "\n",
       "  PassLength PassTot  \n",
       "0       TRUE    TRUE  \n",
       "1       TRUE   FALSE  \n",
       "2       TRUE    TRUE  "
      ]
     },
     "execution_count": 17,
     "metadata": {},
     "output_type": "execute_result"
    }
   ],
   "source": [
    "### Reading the data in\n",
    "df_raw = pd.read_csv('RawData.csv') # creating the variable df to present the data frame\n",
    "df_raw.head(3)"
   ]
  },
  {
   "cell_type": "code",
   "execution_count": 21,
   "id": "49eb1537-ffa8-4e16-8d94-77737784e2a2",
   "metadata": {},
   "outputs": [
    {
     "data": {
      "text/html": [
       "<div>\n",
       "<style scoped>\n",
       "    .dataframe tbody tr th:only-of-type {\n",
       "        vertical-align: middle;\n",
       "    }\n",
       "\n",
       "    .dataframe tbody tr th {\n",
       "        vertical-align: top;\n",
       "    }\n",
       "\n",
       "    .dataframe thead th {\n",
       "        text-align: right;\n",
       "    }\n",
       "</style>\n",
       "<table border=\"1\" class=\"dataframe\">\n",
       "  <thead>\n",
       "    <tr style=\"text-align: right;\">\n",
       "      <th></th>\n",
       "      <th>DateTime</th>\n",
       "      <th>SerialNum</th>\n",
       "      <th>CharName</th>\n",
       "      <th>X Pos</th>\n",
       "      <th>Y Pos</th>\n",
       "      <th>Z Pos</th>\n",
       "      <th>TP Measure</th>\n",
       "      <th>Diameter</th>\n",
       "      <th>Length</th>\n",
       "      <th>PassTP</th>\n",
       "      <th>PassDiameter</th>\n",
       "      <th>PassLength</th>\n",
       "      <th>PassTot</th>\n",
       "      <th>SN</th>\n",
       "    </tr>\n",
       "  </thead>\n",
       "  <tbody>\n",
       "    <tr>\n",
       "      <th>0</th>\n",
       "      <td>06324_131250</td>\n",
       "      <td>EXT1C0070008018000277700000063332611A</td>\n",
       "      <td>C2_3</td>\n",
       "      <td>-48.127</td>\n",
       "      <td>95.77</td>\n",
       "      <td>0.0</td>\n",
       "      <td>0.283</td>\n",
       "      <td>6.989</td>\n",
       "      <td>10.883</td>\n",
       "      <td>TRUE</td>\n",
       "      <td>TRUE</td>\n",
       "      <td>TRUE</td>\n",
       "      <td>TRUE</td>\n",
       "      <td>063</td>\n",
       "    </tr>\n",
       "  </tbody>\n",
       "</table>\n",
       "</div>"
      ],
      "text/plain": [
       "       DateTime                              SerialNum CharName   X Pos  \\\n",
       "0  06324_131250  EXT1C0070008018000277700000063332611A     C2_3 -48.127   \n",
       "\n",
       "   Y Pos  Z Pos  TP Measure  Diameter  Length PassTP PassDiameter PassLength  \\\n",
       "0  95.77    0.0       0.283     6.989  10.883   TRUE         TRUE       TRUE   \n",
       "\n",
       "  PassTot   SN  \n",
       "0    TRUE  063  "
      ]
     },
     "execution_count": 21,
     "metadata": {},
     "output_type": "execute_result"
    }
   ],
   "source": [
    "### Simplify the serial number\n",
    "\n",
    "# With a new column, extracting the simple serial number \n",
    "df_raw['SN'] = df_raw['SerialNum'].str[27:30]  # Indexing starts at 0, so the 28th character is at index 27\n",
    "\n",
    "df_raw.head(1)\n"
   ]
  },
  {
   "cell_type": "code",
   "execution_count": 34,
   "id": "8a2b1424-f41b-45de-a51b-cdcce385d2c2",
   "metadata": {},
   "outputs": [
    {
     "name": "stdout",
     "output_type": "stream",
     "text": [
      "Serial numbers match the number of parts required\n"
     ]
    }
   ],
   "source": [
    "### Verify Data is Complete\n",
    "\n",
    "# Verify unique serial numbers matches the number of parts required\n",
    "if df_raw['SN'].unique().size == num_parts:\n",
    "    print(f'Serial numbers match the number of parts required')\n",
    "else:\n",
    "    print(f'ERROR: numbers DO NOT match the number of parts required')\n",
    "\n",
    "# Verify all measurments are present\n",
    "#if df_raw['TP Measure'] == \"UTM\":\n",
    "#    print(f'UTM Code: Not all measurements present, see index')\n",
    "\n"
   ]
  },
  {
   "cell_type": "markdown",
   "id": "a156e78a-c1b8-4978-92bf-e6af6bd5a123",
   "metadata": {},
   "source": [
    "## Translating True Position"
   ]
  },
  {
   "cell_type": "markdown",
   "id": "e9fa4197-bc08-4f21-870e-bf5f8f319e9c",
   "metadata": {},
   "source": [
    "### Working with one char before iterating"
   ]
  },
  {
   "cell_type": "code",
   "execution_count": 41,
   "id": "5355adf2-e743-4344-9cb6-93dce70ecebe",
   "metadata": {
    "colab": {
     "base_uri": "https://localhost:8080/"
    },
    "id": "5355adf2-e743-4344-9cb6-93dce70ecebe",
    "outputId": "236d23e4-912f-482d-c1ef-17f2e44f5d76",
    "scrolled": true
   },
   "outputs": [
    {
     "name": "stdout",
     "output_type": "stream",
     "text": [
      "Number of measurements matches the gage r&r size\n"
     ]
    },
    {
     "data": {
      "text/html": [
       "<div>\n",
       "<style scoped>\n",
       "    .dataframe tbody tr th:only-of-type {\n",
       "        vertical-align: middle;\n",
       "    }\n",
       "\n",
       "    .dataframe tbody tr th {\n",
       "        vertical-align: top;\n",
       "    }\n",
       "\n",
       "    .dataframe thead th {\n",
       "        text-align: right;\n",
       "    }\n",
       "</style>\n",
       "<table border=\"1\" class=\"dataframe\">\n",
       "  <thead>\n",
       "    <tr style=\"text-align: right;\">\n",
       "      <th></th>\n",
       "      <th>DateTime</th>\n",
       "      <th>CharName</th>\n",
       "      <th>TP Measure</th>\n",
       "    </tr>\n",
       "  </thead>\n",
       "  <tbody>\n",
       "    <tr>\n",
       "      <th>0</th>\n",
       "      <td>06324_131250</td>\n",
       "      <td>C2_3</td>\n",
       "      <td>0.283</td>\n",
       "    </tr>\n",
       "    <tr>\n",
       "      <th>31</th>\n",
       "      <td>06324_131539</td>\n",
       "      <td>C2_3</td>\n",
       "      <td>0.152</td>\n",
       "    </tr>\n",
       "    <tr>\n",
       "      <th>62</th>\n",
       "      <td>06324_131716</td>\n",
       "      <td>C2_3</td>\n",
       "      <td>0.165</td>\n",
       "    </tr>\n",
       "  </tbody>\n",
       "</table>\n",
       "</div>"
      ],
      "text/plain": [
       "        DateTime CharName  TP Measure\n",
       "0   06324_131250     C2_3       0.283\n",
       "31  06324_131539     C2_3       0.152\n",
       "62  06324_131716     C2_3       0.165"
      ]
     },
     "execution_count": 41,
     "metadata": {},
     "output_type": "execute_result"
    }
   ],
   "source": [
    "### Working with one characteristic before iterating\n",
    "\n",
    "# New data frame that only contains DateTime, CharName, and TP Measure\n",
    "df_Char_TP = df_raw[['DateTime', 'CharName', 'TP Measure']]\n",
    "    # Keep the Datetime to esnure the order of measurements\n",
    "\n",
    "# Filtering on a single characteristic, in this case C2_3\n",
    "df_single_char = df_Char_TP[df_Char_TP['CharName'] == 'C2_3']\n",
    "\n",
    "len(df_single_char)\n",
    "\n",
    "# Verify the number of measurements matches the number of parts, operators, trials required\n",
    "if len(df_single_char) == num_parts*num_trials*num_operators: # len() returns the number of rows\n",
    "    print('Number of measurements matches the gage r&r size')\n",
    "else:\n",
    "    print('ERROR: Number of measurements DOES NOT matches the gage r&r size')\n",
    "\n",
    "df_single_char.head(3)\n"
   ]
  },
  {
   "cell_type": "code",
   "execution_count": 53,
   "id": "7741349a-2960-4acd-bb62-e21a9b7c1f65",
   "metadata": {},
   "outputs": [
    {
     "data": {
      "text/html": [
       "<div>\n",
       "<style scoped>\n",
       "    .dataframe tbody tr th:only-of-type {\n",
       "        vertical-align: middle;\n",
       "    }\n",
       "\n",
       "    .dataframe tbody tr th {\n",
       "        vertical-align: top;\n",
       "    }\n",
       "\n",
       "    .dataframe thead th {\n",
       "        text-align: right;\n",
       "    }\n",
       "</style>\n",
       "<table border=\"1\" class=\"dataframe\">\n",
       "  <thead>\n",
       "    <tr style=\"text-align: right;\">\n",
       "      <th></th>\n",
       "      <th>DateTime</th>\n",
       "      <th>Char_23_TP</th>\n",
       "    </tr>\n",
       "  </thead>\n",
       "  <tbody>\n",
       "    <tr>\n",
       "      <th>0</th>\n",
       "      <td>06324_131250</td>\n",
       "      <td>0.283</td>\n",
       "    </tr>\n",
       "    <tr>\n",
       "      <th>31</th>\n",
       "      <td>06324_131539</td>\n",
       "      <td>0.152</td>\n",
       "    </tr>\n",
       "    <tr>\n",
       "      <th>62</th>\n",
       "      <td>06324_131716</td>\n",
       "      <td>0.165</td>\n",
       "    </tr>\n",
       "  </tbody>\n",
       "</table>\n",
       "</div>"
      ],
      "text/plain": [
       "        DateTime  Char_23_TP\n",
       "0   06324_131250       0.283\n",
       "31  06324_131539       0.152\n",
       "62  06324_131716       0.165"
      ]
     },
     "execution_count": 53,
     "metadata": {},
     "output_type": "execute_result"
    }
   ],
   "source": [
    "### Translating Dataframe\n",
    "\n",
    "# Renaming the TP Measure column\n",
    "df_single_char_trans = df_single_char.rename(columns={'TP Measure': 'Char_23_TP'})\n",
    "    # Pandas warning about using parameter inplace, need to set the DF equal to itself\n",
    "\n",
    "# Dropping CharName\n",
    "df_single_char_trans.drop(columns='CharName', inplace=True)\n",
    "\n",
    "df_single_char_trans.head(3)\n"
   ]
  },
  {
   "cell_type": "code",
   "execution_count": null,
   "id": "e065d35a-47df-438f-bf64-9a5594a964c0",
   "metadata": {},
   "outputs": [],
   "source": [
    "### Creating the column for the operator\n"
   ]
  },
  {
   "cell_type": "code",
   "execution_count": 5,
   "id": "3ab3ddd0-3e50-4fd5-8082-8dce7983c57e",
   "metadata": {
    "colab": {
     "base_uri": "https://localhost:8080/"
    },
    "id": "3ab3ddd0-3e50-4fd5-8082-8dce7983c57e",
    "outputId": "3c2a77af-77f0-4224-9c87-94fe3d903668"
   },
   "outputs": [
    {
     "name": "stdout",
     "output_type": "stream",
     "text": [
      "C2_3\n",
      "The range of C2_3 is 0.28300000000000003\n",
      "The range of C2_3 is 0.28300000000000003\n",
      "The range of C4A is 0.548\n",
      "The range of C4B is 0.40399999999999997\n",
      "The range of C4C is 0.351\n",
      "The range of C4D is 0.296\n",
      "The range of C4E is 0.269\n",
      "The range of C4F is 0.29100000000000004\n",
      "The range of C4G is 0.338\n",
      "The range of C4H is 0.349\n",
      "The range of C11 is 0.195\n",
      "The range of C13A is 0.45899999999999996\n",
      "The range of C13B is 0.6619999999999999\n",
      "The range of C17A is 0.771\n",
      "The range of C17B is 0.938\n",
      "The range of C18A is 0.314\n",
      "The range of C18B is 1.257\n",
      "The range of C26A is 1.2730000000000001\n",
      "The range of C26B is 1.031\n",
      "The range of C26C is 0.594\n",
      "The range of C26D is 1.321\n",
      "The range of C27A is 1.119\n",
      "The range of C27B is 0.986\n",
      "The range of C27C is 0.7939999999999999\n",
      "The range of C27D is 0.8240000000000001\n",
      "The range of C31A is 0.0\n",
      "The range of C37A is 0.0\n",
      "The range of C50A is 0.0\n",
      "The range of C31B is 0.0\n",
      "The range of C37B is 0.0\n",
      "The range of C50B is 0.0\n",
      "The range of C52 is 0.0\n"
     ]
    }
   ],
   "source": [
    "### Building upon the above with iterating through the whole data frame\n",
    "\n",
    "# Pull the different characteristics from CharName, without duplicates\n",
    "char_names = df_Char_TP['CharName'].unique()\n",
    "#print(char_names) # test\n",
    "#print(type(char_names)) # test\n",
    "\n",
    "# Iterate through by characteristics and generate separate data frames based CharName/TP\n",
    "    # Have to index through char_names to select the specific character from df_Char_TP\n",
    "print(char_names[0]) # so use the standard index syntax\n",
    "    # Select character based on the index\n",
    "df_single_char = df_Char_TP[df_Char_TP['CharName'] == char_names[0]] # filtering based on the index of char_names\n",
    "# df_single_char # test\n",
    "char_range = df_single_char['TP Measure'].max() - df_single_char['TP Measure'].min()\n",
    "print(f'The range of {char_names[0]} is {char_range}')\n",
    "    # Iterate\n",
    "for cname in char_names:\n",
    "    df_single_char = df_Char_TP[df_Char_TP['CharName'] == cname]\n",
    "    char_range = df_single_char['TP Measure'].max() - df_single_char['TP Measure'].min()\n",
    "    print(f'The range of {cname} is {char_range}')\n",
    "\n"
   ]
  },
  {
   "cell_type": "code",
   "execution_count": null,
   "id": "c36412ca-8c84-4e00-acb5-038d3042af2c",
   "metadata": {
    "colab": {
     "base_uri": "https://localhost:8080/"
    },
    "id": "c36412ca-8c84-4e00-acb5-038d3042af2c",
    "outputId": "e95d895d-0086-45c2-d762-d1bbab124af6"
   },
   "outputs": [
    {
     "name": "stdout",
     "output_type": "stream",
     "text": [
      "The range of C2_3 is 0.28300000000000003\n",
      "The range of C4A is 0.548\n",
      "The range of C4B is 0.40399999999999997\n",
      "The range of C4C is 0.351\n",
      "The range of C4D is 0.296\n",
      "The range of C4E is 0.269\n",
      "The range of C4F is 0.29100000000000004\n",
      "The range of C4G is 0.338\n",
      "The range of C4H is 0.349\n",
      "The range of C11 is 0.195\n",
      "The range of C13A is 0.45899999999999996\n",
      "The range of C13B is 0.6619999999999999\n",
      "The range of C17A is 0.771\n",
      "The range of C17B is 0.938\n",
      "The range of C18A is 0.314\n",
      "The range of C18B is 1.257\n",
      "The range of C26A is 1.2730000000000001\n",
      "The range of C26B is 1.031\n",
      "The range of C26C is 0.594\n",
      "The range of C26D is 1.321\n",
      "The range of C27A is 1.119\n",
      "The range of C27B is 0.986\n",
      "The range of C27C is 0.7939999999999999\n",
      "The range of C27D is 0.8240000000000001\n",
      "The range of C31A is 0.0\n",
      "The range of C37A is 0.0\n",
      "The range of C50A is 0.0\n",
      "The range of C31B is 0.0\n",
      "The range of C37B is 0.0\n",
      "The range of C50B is 0.0\n",
      "The range of C52 is 0.0\n"
     ]
    }
   ],
   "source": [
    "### Cleaning up the above into clean code\n",
    "\n",
    "# New data frame that only contains CharName and TP Measure\n",
    "df_Char_TP = df[['CharName', 'TP Measure']]\n",
    "\n",
    "# Pull the different characteristics from CharName, without duplicates\n",
    "char_names = df_Char_TP['CharName'].unique() # pulls unique values\n",
    "\n",
    "# Iterate through by characteristics and generate the ranges\n",
    "for cname in char_names:\n",
    "    df_single_char = df_Char_TP[df_Char_TP['CharName'] == cname] # filters based on character\n",
    "    char_range = df_single_char['TP Measure'].max() - df_single_char['TP Measure'].min() # Calculates the range\n",
    "    print(f'The range of {cname} is {char_range}') # prints the range\n"
   ]
  },
  {
   "cell_type": "markdown",
   "id": "f3901aee-22ed-4ae3-9a11-855e251edada",
   "metadata": {
    "id": "f3901aee-22ed-4ae3-9a11-855e251edada"
   },
   "source": [
    "To Do:\n",
    "-test to see if the ranges are accurate\n",
    "-generate a new csv file or some kind of visualization\n",
    "-conduct for feature size\n",
    "-add addition statistics that would be for a gage rr\n",
    "-in final code create functions to perform the various statistics\n",
    "-control the number of decimal places on the output\n",
    "\n",
    "Full program\n",
    "-enter the gage rr trial.. is it a 1x1x10 or a 3x3x10 ect\n",
    "    -test the data to confirm selection\n",
    "-enter the tolerance limits of each characteristic\n",
    "    -user input or a csv input?\n",
    "        -maybe after determining the characteristics from the data iterate and ask for each tolerance\n",
    "            -the idea is to keep the program universal to any part\n",
    "-spit out results for each characteristic, how? a tab each in excel? In a notebook?\n",
    "\n",
    "-take the math and create a library, tinyTAB\n",
    "    - .cpk(data, char, ect, ect)\n",
    "\n"
   ]
  },
  {
   "cell_type": "code",
   "execution_count": null,
   "id": "f3a026c6-cf8e-4ee6-a8b9-e15f139c9229",
   "metadata": {
    "colab": {
     "base_uri": "https://localhost:8080/"
    },
    "id": "f3a026c6-cf8e-4ee6-a8b9-e15f139c9229",
    "outputId": "5dd65086-f980-4829-bd28-e2e15ee65daf"
   },
   "outputs": [
    {
     "name": "stdout",
     "output_type": "stream",
     "text": [
      "The standard deviation of C2_3 is 0.06942778876418394\n",
      "The standard deviation of C4A is 0.12484620451388617\n",
      "The standard deviation of C4B is 0.10353614807183555\n",
      "The standard deviation of C4C is 0.08667579972044405\n",
      "The standard deviation of C4D is 0.08285895616485335\n",
      "The standard deviation of C4E is 0.07422157080683289\n",
      "The standard deviation of C4F is 0.07428240222891877\n",
      "The standard deviation of C4G is 0.09016542987237355\n",
      "The standard deviation of C4H is 0.08024973582433251\n",
      "The standard deviation of C11 is 0.048589119120219716\n",
      "The standard deviation of C13A is 0.11724667169038067\n",
      "The standard deviation of C13B is 0.1569422932028053\n",
      "The standard deviation of C17A is 0.09073559563152017\n",
      "The standard deviation of C17B is 0.17415064474806657\n",
      "The standard deviation of C18A is 0.07425321003834616\n",
      "The standard deviation of C18B is 0.21990242870943835\n",
      "The standard deviation of C26A is 0.3575121640457834\n",
      "The standard deviation of C26B is 0.27308737654999965\n",
      "The standard deviation of C26C is 0.17587219426079656\n",
      "The standard deviation of C26D is 0.3949074393360378\n",
      "The standard deviation of C27A is 0.3101089150621097\n",
      "The standard deviation of C27B is 0.2911918647942402\n",
      "The standard deviation of C27C is 0.2451803789605032\n",
      "The standard deviation of C27D is 0.22126189565064375\n",
      "The standard deviation of C31A is 0.0\n",
      "The standard deviation of C37A is 0.0\n",
      "The standard deviation of C50A is 0.0\n",
      "The standard deviation of C31B is 0.0\n",
      "The standard deviation of C37B is 0.0\n",
      "The standard deviation of C50B is 0.0\n",
      "The standard deviation of C52 is 0.0\n"
     ]
    }
   ],
   "source": [
    "### Same as above but for standard deviation\n",
    "\n",
    "# New data frame that only contains CharName and TP Measure\n",
    "df_Char_TP = df[['CharName', 'TP Measure']]\n",
    "\n",
    "# Pull the different characteristics from CharName, without duplicates\n",
    "char_names = df_Char_TP['CharName'].unique() # pulls unique values\n",
    "\n",
    "# Iterate through by characteristics and generate the ranges\n",
    "for cname in char_names:\n",
    "    df_single_char = df_Char_TP[df_Char_TP['CharName'] == cname] # filters based on character\n",
    "    char_range = df_single_char['TP Measure'].std() # calculate the standard deviation\n",
    "    print(f'The standard deviation of {cname} is {char_range}') # prints the range"
   ]
  },
  {
   "cell_type": "markdown",
   "id": "4032abd4-6db2-4bee-ba58-418b3e516b03",
   "metadata": {
    "id": "4032abd4-6db2-4bee-ba58-418b3e516b03"
   },
   "source": [
    "Resources for Cpk\n",
    "-https://www.linkedin.com/pulse/calculating-cp-cpk-uma-maheswari-manchala-2c/\n",
    "-https://www.geeksforgeeks.org/process-capability-index-cpk-formula/\n",
    "\n"
   ]
  },
  {
   "cell_type": "code",
   "execution_count": null,
   "id": "f68fd5f7-f9c3-444e-a3f4-f2045b0e87b7",
   "metadata": {
    "id": "f68fd5f7-f9c3-444e-a3f4-f2045b0e87b7"
   },
   "outputs": [],
   "source": [
    "# Creating a Pandas series\n",
    "data = [1, 2, 3, 4, 5]\n",
    "s = pd.Series(data)\n",
    "\n",
    "# Computing the mean of a Pandas series\n",
    "mean = s.mean()\n",
    "print(mean)\n",
    "\n"
   ]
  },
  {
   "cell_type": "markdown",
   "id": "gqJBWzyVhVqp",
   "metadata": {
    "id": "gqJBWzyVhVqp"
   },
   "source": [
    "## Add operators to the data"
   ]
  },
  {
   "cell_type": "code",
   "execution_count": 2,
   "id": "mvSwg3JlhaoJ",
   "metadata": {
    "colab": {
     "base_uri": "https://localhost:8080/"
    },
    "id": "mvSwg3JlhaoJ",
    "outputId": "38021018-1ea3-4fe2-da16-a78a3d9c53cf"
   },
   "outputs": [
    {
     "name": "stdout",
     "output_type": "stream",
     "text": [
      "[1, 1, 1, 1, 1, 1, 1, 1, 1, 1, 1, 1, 1, 1, 1, 1, 1, 1, 1, 1, 1, 1, 1, 1, 1, 1, 1, 1, 1, 1, 1, 2, 2, 2, 2, 2, 2, 2, 2, 2, 2, 2, 2, 2, 2, 2, 2, 2, 2, 2, 2, 2, 2, 2, 2, 2, 2, 2, 2, 2, 2, 3, 3, 3, 3, 3, 3, 3, 3, 3, 3, 3, 3, 3, 3, 3, 3, 3, 3, 3, 3, 3, 3, 3, 3, 3, 3, 3, 3, 3, 3]\n"
     ]
    }
   ],
   "source": [
    "# Need to add operator\n",
    "# For this dataframe the first 10 instances is operator one and the next ten is operator 2..\n",
    "\n",
    "# li = []\n",
    "# i = 0\n",
    "# li.append(1)\n",
    "# print(li)\n",
    "\n",
    "li = []\n",
    "i = 0\n",
    "while i <= 90:\n",
    "    if i <= 30:\n",
    "        li.append(1)\n",
    "        i+=1\n",
    "    elif i <= 60:\n",
    "        li.append(2)\n",
    "        i+=1\n",
    "    elif i <= 90:\n",
    "        li.append(3)\n",
    "        i+=1\n",
    "\n",
    "print(li)\n"
   ]
  },
  {
   "cell_type": "code",
   "execution_count": null,
   "id": "QnLAvBBzhc4y",
   "metadata": {
    "id": "QnLAvBBzhc4y"
   },
   "outputs": [],
   "source": []
  }
 ],
 "metadata": {
  "colab": {
   "provenance": []
  },
  "kernelspec": {
   "display_name": "Python 3 (ipykernel)",
   "language": "python",
   "name": "python3"
  },
  "language_info": {
   "codemirror_mode": {
    "name": "ipython",
    "version": 3
   },
   "file_extension": ".py",
   "mimetype": "text/x-python",
   "name": "python",
   "nbconvert_exporter": "python",
   "pygments_lexer": "ipython3",
   "version": "3.12.3"
  }
 },
 "nbformat": 4,
 "nbformat_minor": 5
}
